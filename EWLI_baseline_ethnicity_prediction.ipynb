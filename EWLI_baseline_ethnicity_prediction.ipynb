{
 "cells": [
  {
   "cell_type": "code",
   "execution_count": 1,
   "metadata": {},
   "outputs": [],
   "source": [
    "import pandas as pd\n",
    "import numpy as np\n",
    "import matplotlib.pyplot as plt\n",
    "from sklearn.model_selection import train_test_split\n",
    "import xgboost as xgb\n",
    "from sklearn.model_selection import GridSearchCV\n",
    "from sklearn.preprocessing import StandardScaler\n",
    "from sklearn.pipeline import Pipeline\n",
    "from sklearn.model_selection import RandomizedSearchCV"
   ]
  },
  {
   "cell_type": "code",
   "execution_count": 2,
   "metadata": {},
   "outputs": [],
   "source": [
    "df=pd.read_csv('EWLI_baseline_data_cleaned.csv')"
   ]
  },
  {
   "cell_type": "code",
   "execution_count": 3,
   "metadata": {},
   "outputs": [
    {
     "name": "stdout",
     "output_type": "stream",
     "text": [
      "<class 'pandas.core.frame.DataFrame'>\n",
      "RangeIndex: 11260 entries, 0 to 11259\n",
      "Columns: 154 entries, City to k_interest/k_participate/k05\n",
      "dtypes: int64(35), object(119)\n",
      "memory usage: 13.2+ MB\n"
     ]
    }
   ],
   "source": [
    "df.info()"
   ]
  },
  {
   "cell_type": "code",
   "execution_count": 4,
   "metadata": {},
   "outputs": [
    {
     "data": {
      "text/html": [
       "<div>\n",
       "<style scoped>\n",
       "    .dataframe tbody tr th:only-of-type {\n",
       "        vertical-align: middle;\n",
       "    }\n",
       "\n",
       "    .dataframe tbody tr th {\n",
       "        vertical-align: top;\n",
       "    }\n",
       "\n",
       "    .dataframe thead th {\n",
       "        text-align: right;\n",
       "    }\n",
       "</style>\n",
       "<table border=\"1\" class=\"dataframe\">\n",
       "  <thead>\n",
       "    <tr style=\"text-align: right;\">\n",
       "      <th></th>\n",
       "      <th>City</th>\n",
       "      <th>Enumerator</th>\n",
       "      <th>loc_herat</th>\n",
       "      <th>a_basics/a01</th>\n",
       "      <th>a_basics/a02</th>\n",
       "      <th>a_basics/a03</th>\n",
       "      <th>b_hh/b01a</th>\n",
       "      <th>b_hh/b01b</th>\n",
       "      <th>b02a</th>\n",
       "      <th>b02b</th>\n",
       "      <th>...</th>\n",
       "      <th>i_adaptive/i11</th>\n",
       "      <th>j_stereotypes/j01</th>\n",
       "      <th>j_stereotypes/j02</th>\n",
       "      <th>j_stereotypes/j03</th>\n",
       "      <th>j_stereotypes/j0</th>\n",
       "      <th>k_interest/k01</th>\n",
       "      <th>k_interest/k_participate/k02</th>\n",
       "      <th>k_interest/k_participate/k03</th>\n",
       "      <th>k_interest/k_participate/k04</th>\n",
       "      <th>k_interest/k_participate/k05</th>\n",
       "    </tr>\n",
       "  </thead>\n",
       "  <tbody>\n",
       "    <tr>\n",
       "      <th>0</th>\n",
       "      <td>herat</td>\n",
       "      <td>samira</td>\n",
       "      <td>herat_01</td>\n",
       "      <td>male</td>\n",
       "      <td>married living with spouse</td>\n",
       "      <td>tajik</td>\n",
       "      <td>0</td>\n",
       "      <td>0</td>\n",
       "      <td>0</td>\n",
       "      <td>0</td>\n",
       "      <td>...</td>\n",
       "      <td>other</td>\n",
       "      <td>idp_host</td>\n",
       "      <td>other</td>\n",
       "      <td>other</td>\n",
       "      <td>stigma_pasht</td>\n",
       "      <td>yes</td>\n",
       "      <td>ben_women ben_men</td>\n",
       "      <td>ben_women ben_men</td>\n",
       "      <td>ben_women ben_men</td>\n",
       "      <td>ben_men</td>\n",
       "    </tr>\n",
       "    <tr>\n",
       "      <th>1</th>\n",
       "      <td>herat</td>\n",
       "      <td>samira</td>\n",
       "      <td>herat_01</td>\n",
       "      <td>female</td>\n",
       "      <td>married living with spouse</td>\n",
       "      <td>hazara</td>\n",
       "      <td>0</td>\n",
       "      <td>0</td>\n",
       "      <td>0</td>\n",
       "      <td>0</td>\n",
       "      <td>...</td>\n",
       "      <td>other</td>\n",
       "      <td>idp_host</td>\n",
       "      <td>other</td>\n",
       "      <td>other</td>\n",
       "      <td>stigma_pasht</td>\n",
       "      <td>yes</td>\n",
       "      <td>ben_women</td>\n",
       "      <td>not_interested</td>\n",
       "      <td>ben_women</td>\n",
       "      <td>ben_women</td>\n",
       "    </tr>\n",
       "    <tr>\n",
       "      <th>2</th>\n",
       "      <td>herat</td>\n",
       "      <td>samira</td>\n",
       "      <td>herat_01</td>\n",
       "      <td>female</td>\n",
       "      <td>married living with spouse</td>\n",
       "      <td>pashtun</td>\n",
       "      <td>0</td>\n",
       "      <td>0</td>\n",
       "      <td>0</td>\n",
       "      <td>0</td>\n",
       "      <td>...</td>\n",
       "      <td>other</td>\n",
       "      <td>idp_host</td>\n",
       "      <td>other</td>\n",
       "      <td>other</td>\n",
       "      <td>stigma_same</td>\n",
       "      <td>yes</td>\n",
       "      <td>ben_women ben_men</td>\n",
       "      <td>ben_women ben_men</td>\n",
       "      <td>ben_women ben_men</td>\n",
       "      <td>ben_women ben_men</td>\n",
       "    </tr>\n",
       "    <tr>\n",
       "      <th>3</th>\n",
       "      <td>herat</td>\n",
       "      <td>samira</td>\n",
       "      <td>herat_01</td>\n",
       "      <td>female</td>\n",
       "      <td>widow</td>\n",
       "      <td>tajik</td>\n",
       "      <td>0</td>\n",
       "      <td>0</td>\n",
       "      <td>0</td>\n",
       "      <td>0</td>\n",
       "      <td>...</td>\n",
       "      <td>other</td>\n",
       "      <td>idp_host</td>\n",
       "      <td>other</td>\n",
       "      <td>other</td>\n",
       "      <td>stigma_pasht</td>\n",
       "      <td>yes</td>\n",
       "      <td>ben_women ben_men</td>\n",
       "      <td>ben_women ben_men</td>\n",
       "      <td>ben_women ben_men</td>\n",
       "      <td>ben_women ben_men</td>\n",
       "    </tr>\n",
       "    <tr>\n",
       "      <th>4</th>\n",
       "      <td>herat</td>\n",
       "      <td>samira</td>\n",
       "      <td>herat_01</td>\n",
       "      <td>female</td>\n",
       "      <td>married living with spouse</td>\n",
       "      <td>tajik</td>\n",
       "      <td>0</td>\n",
       "      <td>0</td>\n",
       "      <td>0</td>\n",
       "      <td>1</td>\n",
       "      <td>...</td>\n",
       "      <td>other</td>\n",
       "      <td>idp_host</td>\n",
       "      <td>other</td>\n",
       "      <td>other</td>\n",
       "      <td>stigma_pasht</td>\n",
       "      <td>yes</td>\n",
       "      <td>ben_women ben_men</td>\n",
       "      <td>ben_women ben_men</td>\n",
       "      <td>ben_women ben_men</td>\n",
       "      <td>ben_women ben_men</td>\n",
       "    </tr>\n",
       "  </tbody>\n",
       "</table>\n",
       "<p>5 rows × 154 columns</p>\n",
       "</div>"
      ],
      "text/plain": [
       "    City Enumerator loc_herat a_basics/a01                a_basics/a02  \\\n",
       "0  herat     samira  herat_01         male  married living with spouse   \n",
       "1  herat     samira  herat_01       female  married living with spouse   \n",
       "2  herat     samira  herat_01       female  married living with spouse   \n",
       "3  herat     samira  herat_01       female                       widow   \n",
       "4  herat     samira  herat_01       female  married living with spouse   \n",
       "\n",
       "  a_basics/a03  b_hh/b01a  b_hh/b01b  b02a  b02b  ...  i_adaptive/i11  \\\n",
       "0        tajik          0          0     0     0  ...           other   \n",
       "1       hazara          0          0     0     0  ...           other   \n",
       "2      pashtun          0          0     0     0  ...           other   \n",
       "3        tajik          0          0     0     0  ...           other   \n",
       "4        tajik          0          0     0     1  ...           other   \n",
       "\n",
       "   j_stereotypes/j01  j_stereotypes/j02  j_stereotypes/j03  j_stereotypes/j0  \\\n",
       "0           idp_host              other              other      stigma_pasht   \n",
       "1           idp_host              other              other      stigma_pasht   \n",
       "2           idp_host              other              other       stigma_same   \n",
       "3           idp_host              other              other      stigma_pasht   \n",
       "4           idp_host              other              other      stigma_pasht   \n",
       "\n",
       "   k_interest/k01  k_interest/k_participate/k02  k_interest/k_participate/k03  \\\n",
       "0             yes             ben_women ben_men             ben_women ben_men   \n",
       "1             yes                     ben_women                not_interested   \n",
       "2             yes             ben_women ben_men             ben_women ben_men   \n",
       "3             yes             ben_women ben_men             ben_women ben_men   \n",
       "4             yes             ben_women ben_men             ben_women ben_men   \n",
       "\n",
       "   k_interest/k_participate/k04  k_interest/k_participate/k05  \n",
       "0             ben_women ben_men                       ben_men  \n",
       "1                     ben_women                     ben_women  \n",
       "2             ben_women ben_men             ben_women ben_men  \n",
       "3             ben_women ben_men             ben_women ben_men  \n",
       "4             ben_women ben_men             ben_women ben_men  \n",
       "\n",
       "[5 rows x 154 columns]"
      ]
     },
     "execution_count": 4,
     "metadata": {},
     "output_type": "execute_result"
    }
   ],
   "source": [
    "df.head()"
   ]
  },
  {
   "cell_type": "code",
   "execution_count": 5,
   "metadata": {
    "scrolled": true
   },
   "outputs": [
    {
     "data": {
      "text/plain": [
       "pashtun    51.971581\n",
       "tajik      40.754885\n",
       "hazara      4.165187\n",
       "turkmen     1.429840\n",
       "arab        0.559503\n",
       "uzbeck      0.506217\n",
       "other       0.426288\n",
       "baloch      0.186501\n",
       "Name: a_basics/a03, dtype: float64"
      ]
     },
     "execution_count": 5,
     "metadata": {},
     "output_type": "execute_result"
    }
   ],
   "source": [
    "# percentage of each ethnicity type, checking for imbalance\n",
    "df['a_basics/a03'].value_counts(normalize=True) * 100"
   ]
  },
  {
   "cell_type": "markdown",
   "metadata": {},
   "source": [
    "##### Modelling"
   ]
  },
  {
   "cell_type": "code",
   "execution_count": 6,
   "metadata": {},
   "outputs": [],
   "source": [
    "# drop rows with 'other' ethnicity \n",
    "rows_to_drop = df[df['a_basics/a03']=='other'].index\n",
    "df.drop(rows_to_drop, inplace=True)"
   ]
  },
  {
   "cell_type": "markdown",
   "metadata": {},
   "source": [
    "Preprocessing steps"
   ]
  },
  {
   "cell_type": "code",
   "execution_count": 7,
   "metadata": {},
   "outputs": [],
   "source": [
    "y = df.pop('a_basics/a03')"
   ]
  },
  {
   "cell_type": "code",
   "execution_count": 8,
   "metadata": {},
   "outputs": [],
   "source": [
    "# Create a boolean mask for categorical columns\n",
    "categorical_mask = (df.dtypes == object)\n",
    "\n",
    "# Get list of categorical column names\n",
    "categorical_columns = df.columns[categorical_mask].tolist()\n",
    "\n",
    "# Create a boolean mask for numerical columns\n",
    "numerical_mask = (df.dtypes == 'int64')\n",
    "\n",
    "# Get list of numerical column names\n",
    "numerical_columns = df.columns[numerical_mask].tolist()"
   ]
  },
  {
   "cell_type": "code",
   "execution_count": 9,
   "metadata": {},
   "outputs": [],
   "source": [
    "def get_dummy_columns(columns_list, df):\n",
    "    dummy_columns = []\n",
    "    for column in columns_list:\n",
    "        for row in df[column]:\n",
    "            if len(row.split())>1:\n",
    "                dummy_columns.append(column)\n",
    "                #print(row)\n",
    "                break\n",
    "            else:\n",
    "                continue\n",
    "    return dummy_columns"
   ]
  },
  {
   "cell_type": "code",
   "execution_count": 10,
   "metadata": {},
   "outputs": [],
   "source": [
    "dummy_1 = get_dummy_columns(categorical_columns, df)"
   ]
  },
  {
   "cell_type": "code",
   "execution_count": 11,
   "metadata": {},
   "outputs": [],
   "source": [
    "dummy_2 = [item for item in categorical_columns if item not in dummy_1]"
   ]
  },
  {
   "cell_type": "code",
   "execution_count": 12,
   "metadata": {},
   "outputs": [],
   "source": [
    "# Function that converts given categorical columns into dummies.\n",
    "def convert_col_dummies(columns, df):\n",
    "    for col in columns:\n",
    "        new = df[col].str.get_dummies(sep=' ').rename(lambda x: col + '_' + x, axis='columns')\n",
    "        df = df.join(new)\n",
    "    res = df.drop(columns, axis=1)\n",
    "    return res"
   ]
  },
  {
   "cell_type": "code",
   "execution_count": 13,
   "metadata": {},
   "outputs": [],
   "source": [
    "res_1 = convert_col_dummies(dummy_1, df[dummy_1])\n",
    "res_2 = pd.get_dummies(df[dummy_2])\n",
    "res_3 = df[numerical_columns]"
   ]
  },
  {
   "cell_type": "code",
   "execution_count": 14,
   "metadata": {},
   "outputs": [],
   "source": [
    "df_ = pd.concat([res_1, res_2, res_3], axis = 1)"
   ]
  },
  {
   "cell_type": "code",
   "execution_count": 15,
   "metadata": {},
   "outputs": [
    {
     "data": {
      "text/html": [
       "<div>\n",
       "<style scoped>\n",
       "    .dataframe tbody tr th:only-of-type {\n",
       "        vertical-align: middle;\n",
       "    }\n",
       "\n",
       "    .dataframe tbody tr th {\n",
       "        vertical-align: top;\n",
       "    }\n",
       "\n",
       "    .dataframe thead th {\n",
       "        text-align: right;\n",
       "    }\n",
       "</style>\n",
       "<table border=\"1\" class=\"dataframe\">\n",
       "  <thead>\n",
       "    <tr style=\"text-align: right;\">\n",
       "      <th></th>\n",
       "      <th>a_basics/a02_divorced</th>\n",
       "      <th>a_basics/a02_engaged</th>\n",
       "      <th>a_basics/a02_living</th>\n",
       "      <th>a_basics/a02_married</th>\n",
       "      <th>a_basics/a02_not</th>\n",
       "      <th>a_basics/a02_spouse</th>\n",
       "      <th>a_basics/a02_widow</th>\n",
       "      <th>a_basics/a02_with</th>\n",
       "      <th>c_origin/c03_abband</th>\n",
       "      <th>c_origin/c03_abkamari</th>\n",
       "      <th>...</th>\n",
       "      <th>e_food/e_fcs/e06</th>\n",
       "      <th>e_food/e_fcs/e07</th>\n",
       "      <th>e_food/e_fcs/e08</th>\n",
       "      <th>e_food/e_fcs/e09</th>\n",
       "      <th>f_access/f_lit/f01a</th>\n",
       "      <th>f_access/f_lit/f01b</th>\n",
       "      <th>h_assets/h01a</th>\n",
       "      <th>i_adaptive/i01</th>\n",
       "      <th>i_adaptive/i01income_count</th>\n",
       "      <th>i_adaptive/i04</th>\n",
       "    </tr>\n",
       "  </thead>\n",
       "  <tbody>\n",
       "    <tr>\n",
       "      <th>0</th>\n",
       "      <td>0</td>\n",
       "      <td>0</td>\n",
       "      <td>1</td>\n",
       "      <td>1</td>\n",
       "      <td>0</td>\n",
       "      <td>1</td>\n",
       "      <td>0</td>\n",
       "      <td>1</td>\n",
       "      <td>0</td>\n",
       "      <td>0</td>\n",
       "      <td>...</td>\n",
       "      <td>3</td>\n",
       "      <td>7</td>\n",
       "      <td>7</td>\n",
       "      <td>7</td>\n",
       "      <td>3</td>\n",
       "      <td>4</td>\n",
       "      <td>40</td>\n",
       "      <td>2</td>\n",
       "      <td>2</td>\n",
       "      <td>8000</td>\n",
       "    </tr>\n",
       "    <tr>\n",
       "      <th>1</th>\n",
       "      <td>0</td>\n",
       "      <td>0</td>\n",
       "      <td>1</td>\n",
       "      <td>1</td>\n",
       "      <td>0</td>\n",
       "      <td>1</td>\n",
       "      <td>0</td>\n",
       "      <td>1</td>\n",
       "      <td>0</td>\n",
       "      <td>0</td>\n",
       "      <td>...</td>\n",
       "      <td>4</td>\n",
       "      <td>6</td>\n",
       "      <td>7</td>\n",
       "      <td>7</td>\n",
       "      <td>3</td>\n",
       "      <td>1</td>\n",
       "      <td>30</td>\n",
       "      <td>1</td>\n",
       "      <td>1</td>\n",
       "      <td>3000</td>\n",
       "    </tr>\n",
       "    <tr>\n",
       "      <th>2</th>\n",
       "      <td>0</td>\n",
       "      <td>0</td>\n",
       "      <td>1</td>\n",
       "      <td>1</td>\n",
       "      <td>0</td>\n",
       "      <td>1</td>\n",
       "      <td>0</td>\n",
       "      <td>1</td>\n",
       "      <td>0</td>\n",
       "      <td>0</td>\n",
       "      <td>...</td>\n",
       "      <td>0</td>\n",
       "      <td>6</td>\n",
       "      <td>7</td>\n",
       "      <td>7</td>\n",
       "      <td>4</td>\n",
       "      <td>9</td>\n",
       "      <td>30</td>\n",
       "      <td>3</td>\n",
       "      <td>3</td>\n",
       "      <td>7000</td>\n",
       "    </tr>\n",
       "    <tr>\n",
       "      <th>3</th>\n",
       "      <td>0</td>\n",
       "      <td>0</td>\n",
       "      <td>0</td>\n",
       "      <td>0</td>\n",
       "      <td>0</td>\n",
       "      <td>0</td>\n",
       "      <td>1</td>\n",
       "      <td>0</td>\n",
       "      <td>0</td>\n",
       "      <td>0</td>\n",
       "      <td>...</td>\n",
       "      <td>3</td>\n",
       "      <td>4</td>\n",
       "      <td>7</td>\n",
       "      <td>7</td>\n",
       "      <td>0</td>\n",
       "      <td>1</td>\n",
       "      <td>20</td>\n",
       "      <td>1</td>\n",
       "      <td>1</td>\n",
       "      <td>4000</td>\n",
       "    </tr>\n",
       "    <tr>\n",
       "      <th>4</th>\n",
       "      <td>0</td>\n",
       "      <td>0</td>\n",
       "      <td>1</td>\n",
       "      <td>1</td>\n",
       "      <td>0</td>\n",
       "      <td>1</td>\n",
       "      <td>0</td>\n",
       "      <td>1</td>\n",
       "      <td>0</td>\n",
       "      <td>0</td>\n",
       "      <td>...</td>\n",
       "      <td>0</td>\n",
       "      <td>0</td>\n",
       "      <td>7</td>\n",
       "      <td>7</td>\n",
       "      <td>3</td>\n",
       "      <td>3</td>\n",
       "      <td>20</td>\n",
       "      <td>1</td>\n",
       "      <td>1</td>\n",
       "      <td>3000</td>\n",
       "    </tr>\n",
       "  </tbody>\n",
       "</table>\n",
       "<p>5 rows × 946 columns</p>\n",
       "</div>"
      ],
      "text/plain": [
       "   a_basics/a02_divorced  a_basics/a02_engaged  a_basics/a02_living  \\\n",
       "0                      0                     0                    1   \n",
       "1                      0                     0                    1   \n",
       "2                      0                     0                    1   \n",
       "3                      0                     0                    0   \n",
       "4                      0                     0                    1   \n",
       "\n",
       "   a_basics/a02_married  a_basics/a02_not  a_basics/a02_spouse  \\\n",
       "0                     1                 0                    1   \n",
       "1                     1                 0                    1   \n",
       "2                     1                 0                    1   \n",
       "3                     0                 0                    0   \n",
       "4                     1                 0                    1   \n",
       "\n",
       "   a_basics/a02_widow  a_basics/a02_with  c_origin/c03_abband  \\\n",
       "0                   0                  1                    0   \n",
       "1                   0                  1                    0   \n",
       "2                   0                  1                    0   \n",
       "3                   1                  0                    0   \n",
       "4                   0                  1                    0   \n",
       "\n",
       "   c_origin/c03_abkamari  ...  e_food/e_fcs/e06  e_food/e_fcs/e07  \\\n",
       "0                      0  ...                 3                 7   \n",
       "1                      0  ...                 4                 6   \n",
       "2                      0  ...                 0                 6   \n",
       "3                      0  ...                 3                 4   \n",
       "4                      0  ...                 0                 0   \n",
       "\n",
       "   e_food/e_fcs/e08  e_food/e_fcs/e09  f_access/f_lit/f01a  \\\n",
       "0                 7                 7                    3   \n",
       "1                 7                 7                    3   \n",
       "2                 7                 7                    4   \n",
       "3                 7                 7                    0   \n",
       "4                 7                 7                    3   \n",
       "\n",
       "   f_access/f_lit/f01b  h_assets/h01a  i_adaptive/i01  \\\n",
       "0                    4             40               2   \n",
       "1                    1             30               1   \n",
       "2                    9             30               3   \n",
       "3                    1             20               1   \n",
       "4                    3             20               1   \n",
       "\n",
       "   i_adaptive/i01income_count  i_adaptive/i04  \n",
       "0                           2            8000  \n",
       "1                           1            3000  \n",
       "2                           3            7000  \n",
       "3                           1            4000  \n",
       "4                           1            3000  \n",
       "\n",
       "[5 rows x 946 columns]"
      ]
     },
     "execution_count": 15,
     "metadata": {},
     "output_type": "execute_result"
    }
   ],
   "source": [
    "df_.head()"
   ]
  },
  {
   "cell_type": "markdown",
   "metadata": {},
   "source": [
    "Xgboost"
   ]
  },
  {
   "cell_type": "code",
   "execution_count": 16,
   "metadata": {},
   "outputs": [],
   "source": [
    "from sklearn.preprocessing import LabelEncoder\n",
    "\n",
    "le = LabelEncoder()\n",
    "y_le = le.fit_transform(y)"
   ]
  },
  {
   "cell_type": "code",
   "execution_count": 17,
   "metadata": {},
   "outputs": [
    {
     "data": {
      "text/plain": [
       "{0, 1, 2, 3, 4, 5, 6}"
      ]
     },
     "execution_count": 17,
     "metadata": {},
     "output_type": "execute_result"
    }
   ],
   "source": [
    "set(y_le)"
   ]
  },
  {
   "cell_type": "code",
   "execution_count": 18,
   "metadata": {},
   "outputs": [],
   "source": [
    "#r_dict = {}\n",
    "#for col in ready_to_go.columns:\n",
    "#    corr_mat = np.corrcoef(ready_to_go[col], y_le)\n",
    "#    r = corr_mat[0,1]\n",
    "#    r_dict[col]=r\n",
    "#sorted([(value,key) for (key,value) in r_dict.items()])"
   ]
  },
  {
   "cell_type": "code",
   "execution_count": 19,
   "metadata": {},
   "outputs": [],
   "source": [
    "X_train, X_test, y_train, y_test = train_test_split(df_, y_le, test_size = 0.3, random_state=42, stratify=y)"
   ]
  },
  {
   "cell_type": "code",
   "execution_count": 20,
   "metadata": {},
   "outputs": [
    {
     "data": {
      "text/plain": [
       "((7848, 946), (7848,))"
      ]
     },
     "execution_count": 20,
     "metadata": {},
     "output_type": "execute_result"
    }
   ],
   "source": [
    "X_train.shape, y_train.shape"
   ]
  },
  {
   "cell_type": "code",
   "execution_count": 21,
   "metadata": {},
   "outputs": [
    {
     "name": "stdout",
     "output_type": "stream",
     "text": [
      "(11929, 946) (11929,)\n"
     ]
    }
   ],
   "source": [
    "#balance the data\n",
    "from imblearn.over_sampling import SMOTE\n",
    "\n",
    "# Define the resampling method\n",
    "method = SMOTE('minority')\n",
    "\n",
    "# Create the resampled feature set\n",
    "X_resampled, y_resampled = method.fit_sample(X_train, y_train)\n",
    "\n",
    "print(X_resampled.shape, y_resampled.shape)"
   ]
  },
  {
   "cell_type": "code",
   "execution_count": 22,
   "metadata": {
    "scrolled": true
   },
   "outputs": [
    {
     "name": "stdout",
     "output_type": "stream",
     "text": [
      "Fitting 4 folds for each of 5 candidates, totalling 20 fits\n"
     ]
    },
    {
     "name": "stderr",
     "output_type": "stream",
     "text": [
      "[Parallel(n_jobs=2)]: Using backend LokyBackend with 2 concurrent workers.\n",
      "[Parallel(n_jobs=2)]: Done  20 out of  20 | elapsed: 27.6min finished\n",
      "C:\\Users\\wibot\\Anaconda3\\lib\\site-packages\\sklearn\\utils\\validation.py:595: DataConversionWarning: Data with input dtype int64 was converted to float64 by StandardScaler.\n",
      "  warnings.warn(msg, DataConversionWarning)\n",
      "C:\\Users\\wibot\\Anaconda3\\lib\\site-packages\\sklearn\\utils\\validation.py:595: DataConversionWarning: Data with input dtype int64 was converted to float64 by StandardScaler.\n",
      "  warnings.warn(msg, DataConversionWarning)\n"
     ]
    },
    {
     "name": "stdout",
     "output_type": "stream",
     "text": [
      "Best parameters found:  Pipeline(memory=None,\n",
      "     steps=[('scaler', StandardScaler(copy=True, with_mean=True, with_std=True)), ('xgb', XGBClassifier(base_score=0.5, booster='gbtree', colsample_bylevel=1,\n",
      "       colsample_bytree=1, gamma=0, learning_rate=0.2, max_delta_step=0,\n",
      "       max_depth=3, min_child_weight=1, missing=None, n_estimators=50,\n",
      "       n_jobs=1, nthread=None, objective='multi:softprob', random_state=0,\n",
      "       reg_alpha=0, reg_lambda=1, scale_pos_weight=1, seed=None,\n",
      "       silent=True, subsample=1))])\n",
      "Best score found:  0.8832257523681784\n"
     ]
    }
   ],
   "source": [
    "# X,y = X_resampled, y_resampled\n",
    "# Perform grid search\n",
    "# grid = GridSearchCV(estimator=xgb_pipeline, param_grid=param_grid,\n",
    "#                        cv=5, n_jobs=2)\n",
    "# grid.fit(X,y)\n",
    "# Print the best parameters and best score\n",
    "# print(\"Best parameters found: \", grid.best_params_)\n",
    "# print(\"Best score found: \", grid.best_score_)\n",
    "\n",
    "\n",
    "param_grid = {\n",
    "                'xgb__learning_rate': np.arange(.05, 1, .05), \n",
    "                'xgb__max_depth': np.arange(2,10, 1), \n",
    "                'xgb__n_estimators': np.arange(50, 200, 50),\n",
    "                'xgb__min_child_weight': np.arange(1,8,1)\n",
    "             }\n",
    "\n",
    "# Setup the pipeline steps: steps\n",
    "steps = [('scaler', StandardScaler()), ('xgb', xgb.XGBClassifier(objective = 'multi:softprob'))]\n",
    "\n",
    "# Create the pipeline: xgb_pipeline\n",
    "xgb_pipeline = Pipeline(steps)\n",
    "\n",
    "# Perform random search:\n",
    "randomized = RandomizedSearchCV(estimator=xgb_pipeline, param_distributions=param_grid,\n",
    "                                    n_iter=5, cv=4, verbose=1, n_jobs=2)\n",
    "# Fit the estimator\n",
    "randomized.fit(X_resampled, y_resampled)\n",
    "\n",
    "# Print the best parameters and best score\n",
    "print(\"Best parameters found: \", randomized.best_estimator_)\n",
    "print(\"Best score found: \", randomized.best_score_)"
   ]
  },
  {
   "cell_type": "code",
   "execution_count": 30,
   "metadata": {},
   "outputs": [],
   "source": [
    "# Take the best estimator\n",
    "xgbbest = xgb.XGBClassifier(base_score=0.5, booster='gbtree',\n",
    "                               colsample_bylevel=1, colsample_bynode=1,\n",
    "                               colsample_bytree=1, device='gpu', gamma=0,\n",
    "                               learning_rate=0.45, max_delta_step=0,\n",
    "                               max_depth=8, min_child_weight=3, missing=None,\n",
    "                               n_estimators=50, n_jobs=1, nthread=None,\n",
    "                               objective='multi:softprob', random_state=0,\n",
    "                               reg_alpha=0, reg_lambda=1, scale_pos_weight=1,\n",
    "                               seed=None, silent=None, subsample=1,\n",
    "                               verbosity=1)\n",
    "\n",
    "# Fit the estimator\n",
    "xgbbest.fit(X_resampled, y_resampled)\n",
    "\n",
    "# Get your performance metrics\n",
    "predicted = xgbbest.predict(X_test.values)"
   ]
  },
  {
   "cell_type": "code",
   "execution_count": 31,
   "metadata": {},
   "outputs": [
    {
     "data": {
      "text/plain": [
       "array(['arab', 'baloch', 'hazara', 'pashtun', 'tajik', 'turkmen',\n",
       "       'uzbeck'], dtype=object)"
      ]
     },
     "execution_count": 31,
     "metadata": {},
     "output_type": "execute_result"
    }
   ],
   "source": [
    "le.classes_"
   ]
  },
  {
   "cell_type": "code",
   "execution_count": 32,
   "metadata": {
    "scrolled": true
   },
   "outputs": [
    {
     "name": "stderr",
     "output_type": "stream",
     "text": [
      "C:\\Users\\wibot\\Anaconda3\\lib\\site-packages\\sklearn\\metrics\\classification.py:1143: UndefinedMetricWarning: Precision and F-score are ill-defined and being set to 0.0 in labels with no predicted samples.\n",
      "  'precision', 'predicted', average, warn_for)\n",
      "C:\\Users\\wibot\\Anaconda3\\lib\\site-packages\\sklearn\\metrics\\classification.py:1143: UndefinedMetricWarning: Precision and F-score are ill-defined and being set to 0.0 in labels with no predicted samples.\n",
      "  'precision', 'predicted', average, warn_for)\n",
      "C:\\Users\\wibot\\Anaconda3\\lib\\site-packages\\sklearn\\metrics\\classification.py:1143: UndefinedMetricWarning: Precision and F-score are ill-defined and being set to 0.0 in labels with no predicted samples.\n",
      "  'precision', 'predicted', average, warn_for)\n"
     ]
    },
    {
     "name": "stdout",
     "output_type": "stream",
     "text": [
      "              precision    recall  f1-score   support\n",
      "\n",
      "           0       0.00      0.00      0.00        19\n",
      "           1       0.00      0.00      0.00         6\n",
      "           2       0.91      0.81      0.86       141\n",
      "           3       0.89      0.84      0.86      1756\n",
      "           4       0.77      0.87      0.82      1377\n",
      "           5       0.27      0.06      0.10        48\n",
      "           6       0.67      0.24      0.35        17\n",
      "\n",
      "   micro avg       0.83      0.83      0.83      3364\n",
      "   macro avg       0.50      0.40      0.43      3364\n",
      "weighted avg       0.82      0.83      0.82      3364\n",
      "\n",
      "[[   0    0    1    2   16    0    0]\n",
      " [   0    0    0    2    4    0    0]\n",
      " [   0    0  114    6   21    0    0]\n",
      " [   1    0    3 1478  273    1    0]\n",
      " [   0    0    7  164 1197    7    2]\n",
      " [   0    0    0    9   36    3    0]\n",
      " [   0    0    0    6    7    0    4]]\n"
     ]
    }
   ],
   "source": [
    "from sklearn.metrics import classification_report\n",
    "\n",
    "print(classification_report(y_test, predicted))\n",
    "\n",
    "from sklearn.metrics import confusion_matrix\n",
    "\n",
    "print(confusion_matrix(y_test, predicted))"
   ]
  },
  {
   "cell_type": "code",
   "execution_count": 33,
   "metadata": {},
   "outputs": [
    {
     "name": "stdout",
     "output_type": "stream",
     "text": [
      "Wall time: 27.4 s\n"
     ]
    },
    {
     "data": {
      "image/png": "[encoded data removed]",
      "text/plain": [
       "<Figure size 576x684 with 1 Axes>"
      ]
     },
     "metadata": {},
     "output_type": "display_data"
    }
   ],
   "source": [
    "import shap\n",
    "#explainerXGB = shap.TreeExplainer(xgbbest)\n",
    "#shap_values_XGB_test = explainerXGB.shap_values(X_test)\n",
    "#shap_values_XGB_train = explainerXGB.shap_values(X_train)\n",
    "#shap.initjs() \n",
    "#shap.force_plot(explainerXGB.expected_value[0], shap_values_XGB_test[0])\n",
    "%time shap_values = shap.TreeExplainer(xgbbest).shap_values(X_test)\n",
    "shap.summary_plot(shap_values, X_test)"
   ]
  },
  {
   "cell_type": "code",
   "execution_count": 68,
   "metadata": {},
   "outputs": [],
   "source": [
    "#shap.summary_plot(shap_values[0], X_test)"
   ]
  },
  {
   "cell_type": "code",
   "execution_count": 34,
   "metadata": {
    "scrolled": false
   },
   "outputs": [],
   "source": [
    "# Feature importance\n",
    "fi = pd.DataFrame(list(zip(X_train.columns, xgbbest.feature_importances_)), columns = ['feature', 'importance'])\n",
    "fi.sort_values('importance',ascending=False, inplace=True)"
   ]
  },
  {
   "cell_type": "code",
   "execution_count": 38,
   "metadata": {},
   "outputs": [],
   "source": [
    "rename = {'i_adaptive/i04': 'Average monthly income', 'hh_total': 'Total number of people/household', 'h_assets/h01a': 'Number of households living in the arrangement', 'e_food/e_fcs/e03': 'Vegetable consumption during last week (how many days)', 'e_food/e_fcs/e05':'Beef, goat, poultry, eggs, fish, sheep consumption during last week (how many days at least one of the products)', 'e_food/e_fcs/e06':'Dairy products consumption during last week (in days)', 'hh_female': 'Total number of females per household', 'f_access/f_lit/f01a': 'Number of females over the age of 12 who can read/write(per household)', 'hh_male': 'Total number of males per household', 'e_food/e_fcs/e02': 'Beans/peas/nuts consumption during last week (how many days at least one of the products)', 'hh_girls': 'Total number of girls per household', 'f_access/f_lit/f01b': 'Number of males over the age of 12 who can read/write(per household)'}\n",
    "for k,v in rename.items():\n",
    "    fi.loc[fi['feature']==k,'feature'] = v"
   ]
  },
  {
   "cell_type": "code",
   "execution_count": 40,
   "metadata": {},
   "outputs": [],
   "source": [
    "#plt.figure()\n",
    "#fi[fi['importance']>0.01].plot(kind='barh', x='feature', y='importance', legend=False, figsize=(8, 8))\n",
    "#plt.gcf().savefig('features_importance.png')"
   ]
  },
  {
   "cell_type": "code",
   "execution_count": 39,
   "metadata": {},
   "outputs": [
    {
     "data": {
      "image/png": "[encoded data removed]",
      "text/plain": [
       "<Figure size 432x288 with 1 Axes>"
      ]
     },
     "metadata": {},
     "output_type": "display_data"
    }
   ],
   "source": [
    "import seaborn as sns\n",
    "sns.set()\n",
    "ax = sns.barplot(x='importance', y='feature', data=fi[fi['importance']>0.01])\n",
    "ax.set(xlabel='', ylabel='')\n",
    "plt.title('Feature importance for ethnicity prediction')\n",
    "plt.show()"
   ]
  }
 ],
 "metadata": {
  "kernelspec": {
   "display_name": "Python 3",
   "language": "python",
   "name": "python3"
  },
  "language_info": {
   "codemirror_mode": {
    "name": "ipython",
    "version": 3
   },
   "file_extension": ".py",
   "mimetype": "text/x-python",
   "name": "python",
   "nbconvert_exporter": "python",
   "pygments_lexer": "ipython3",
   "version": "3.6.8"
  }
 },
 "nbformat": 4,
 "nbformat_minor": 2
}
