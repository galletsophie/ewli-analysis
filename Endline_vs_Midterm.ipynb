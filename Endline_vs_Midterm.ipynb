{
 "cells": [
  {
   "cell_type": "code",
   "execution_count": 28,
   "metadata": {},
   "outputs": [],
   "source": [
    "import pandas as pd\n",
    "import numpy as np\n",
    "from scipy.stats import ttest_ind\n",
    "import matplotlib.pyplot as plt"
   ]
  },
  {
   "cell_type": "code",
   "execution_count": 2,
   "metadata": {},
   "outputs": [],
   "source": [
    "herat_mid = pd.read_excel('Herat Mid-term Data Set.xlsx')\n",
    "herat_end = pd.read_excel('EWLI_HRT_Endline_Treat_Group - latest version - labels - 2019-04-07-11-30-56.xlsx')"
   ]
  },
  {
   "cell_type": "code",
   "execution_count": 3,
   "metadata": {},
   "outputs": [],
   "source": [
    "herat_mid.dropna(thresh=30, axis=0, inplace=True)"
   ]
  },
  {
   "cell_type": "markdown",
   "metadata": {},
   "source": [
    "##### Literacy"
   ]
  },
  {
   "cell_type": "code",
   "execution_count": 4,
   "metadata": {},
   "outputs": [],
   "source": [
    "herat_mid['lit_fem_ratio'] = herat_mid['hh_lit_female']/herat_mid['hh_female']\n",
    "herat_end['lit_fem_ratio'] = herat_end['hh_lit_female']/herat_end['hh_female']\n",
    "herat_mid['lit_mal_ratio'] = herat_mid['hh_lit_male']/herat_mid['hh_male']\n",
    "herat_end['lit_mal_ratio'] = herat_end['hh_lit_male']/herat_end['hh_male']"
   ]
  },
  {
   "cell_type": "code",
   "execution_count": 10,
   "metadata": {},
   "outputs": [
    {
     "name": "stdout",
     "output_type": "stream",
     "text": [
      "t=-1.672, p=0.095\n",
      "Accept null hypothesis that the means are equal.\n"
     ]
    }
   ],
   "source": [
    "# compare females ratios\n",
    "\n",
    "stat, p = ttest_ind(herat_end['lit_fem_ratio'], herat_mid['lit_fem_ratio'], nan_policy='omit')\n",
    "print('t=%.3f, p=%.3f' % (stat, p))\n",
    "if p > 0.05:\n",
    "    print('Accept null hypothesis that the means are equal.')\n",
    "else:\n",
    "    print('Reject the null hypothesis that the means are equal.')"
   ]
  },
  {
   "cell_type": "code",
   "execution_count": 9,
   "metadata": {},
   "outputs": [
    {
     "name": "stdout",
     "output_type": "stream",
     "text": [
      "t=0.823, p=0.411\n",
      "Accept null hypothesis that the means are equal.\n"
     ]
    }
   ],
   "source": [
    "# compare males ratios\n",
    "\n",
    "stat, p = ttest_ind(herat_end['lit_mal_ratio'], herat_mid['lit_mal_ratio'], nan_policy='omit')\n",
    "print('t=%.3f, p=%.3f' % (stat, p))\n",
    "if p > 0.05:\n",
    "    print('Accept null hypothesis that the means are equal.')\n",
    "else:\n",
    "    print('Reject the null hypothesis that the means are equal.')"
   ]
  },
  {
   "cell_type": "code",
   "execution_count": 11,
   "metadata": {},
   "outputs": [
    {
     "data": {
      "text/plain": [
       "0.0    283\n",
       "1.0     65\n",
       "Name: a_basics/a_p/literacy_classes, dtype: int64"
      ]
     },
     "execution_count": 11,
     "metadata": {},
     "output_type": "execute_result"
    }
   ],
   "source": [
    "herat_mid['a_basics/a_p/literacy_classes'].value_counts()"
   ]
  },
  {
   "cell_type": "code",
   "execution_count": 12,
   "metadata": {
    "scrolled": true
   },
   "outputs": [
    {
     "data": {
      "text/plain": [
       "0    288\n",
       "1     58\n",
       "Name: A05. Which activities do you participate/d in?/Literacy classes, dtype: int64"
      ]
     },
     "execution_count": 12,
     "metadata": {},
     "output_type": "execute_result"
    }
   ],
   "source": [
    "herat_end['A05. Which activities do you participate/d in?/Literacy classes'].value_counts()"
   ]
  },
  {
   "cell_type": "code",
   "execution_count": 33,
   "metadata": {
    "scrolled": true
   },
   "outputs": [
    {
     "name": "stderr",
     "output_type": "stream",
     "text": [
      "C:\\Users\\wibot\\Anaconda3\\lib\\site-packages\\matplotlib\\figure.py:445: UserWarning: Matplotlib is currently using module://ipykernel.pylab.backend_inline, which is a non-GUI backend, so cannot show the figure.\n",
      "  % get_backend())\n"
     ]
    },
    {
     "data": {
      "image/png": "[encoded data removed]",
      "text/plain": [
       "<Figure size 432x288 with 2 Axes>"
      ]
     },
     "metadata": {},
     "output_type": "display_data"
    }
   ],
   "source": [
    "midterm_literacy_classes = herat_mid['a_basics/a_p/literacy_classes'].map({1.0: 'yes', 0.0: 'no'})\n",
    "endline_literacy_classes = herat_end['A05. Which activities do you participate/d in?/Literacy classes'].map({1: 'yes', 0: 'no'})\n",
    "fig, ax =plt.subplots(1,2)\n",
    "sns.countplot(midterm_literacy_classes, ax=ax[0])\n",
    "sns.countplot(endline_literacy_classes, ax=ax[1])\n",
    "ax[0].set(xlabel='during', ylabel='number of people')\n",
    "ax[1].set(xlabel='after', ylabel='')\n",
    "plt.title('Participation in literacy classes')\n",
    "fig.show()"
   ]
  },
  {
   "cell_type": "markdown",
   "metadata": {},
   "source": [
    "As we can see from the above there is no significant difference in ratio of literate men and women during the program and in the end."
   ]
  },
  {
   "cell_type": "markdown",
   "metadata": {},
   "source": [
    "##### Tazkera"
   ]
  },
  {
   "cell_type": "code",
   "execution_count": 18,
   "metadata": {
    "scrolled": true
   },
   "outputs": [
    {
     "data": {
      "text/plain": [
       "yes    347\n",
       "no       1\n",
       "Name: F07a1. Does the head of HH have tazkera?, dtype: int64"
      ]
     },
     "execution_count": 18,
     "metadata": {},
     "output_type": "execute_result"
    }
   ],
   "source": [
    "herat_mid['F07a1. Does the head of HH have tazkera?'].value_counts()"
   ]
  },
  {
   "cell_type": "code",
   "execution_count": 19,
   "metadata": {},
   "outputs": [
    {
     "data": {
      "text/plain": [
       "Yes    336\n",
       "No      10\n",
       "Name: F07a1. Does the head of HH have tazkera?, dtype: int64"
      ]
     },
     "execution_count": 19,
     "metadata": {},
     "output_type": "execute_result"
    }
   ],
   "source": [
    "herat_end['F07a1. Does the head of HH have tazkera?'].value_counts()"
   ]
  },
  {
   "cell_type": "code",
   "execution_count": 20,
   "metadata": {},
   "outputs": [
    {
     "name": "stdout",
     "output_type": "stream",
     "text": [
      "t=8.090, p=0.000\n",
      "Reject the null hypothesis that the means are equal.\n"
     ]
    }
   ],
   "source": [
    "mid_f07 = herat_mid['F07. Does everyone in the household have a tazkera?'].eq('yes').astype(int)\n",
    "end_f07 = herat_end['F07. Does everyone in the household have a tazkera?'].eq('Yes').astype(int)\n",
    "\n",
    "stat, p = ttest_ind(end_f07, mid_f07)\n",
    "print('t=%.3f, p=%.3f' % (stat, p))\n",
    "if p > 0.05:\n",
    "    print('Accept null hypothesis that the means are equal.')\n",
    "else:\n",
    "    print('Reject the null hypothesis that the means are equal.')"
   ]
  },
  {
   "cell_type": "code",
   "execution_count": 35,
   "metadata": {},
   "outputs": [
    {
     "name": "stderr",
     "output_type": "stream",
     "text": [
      "C:\\Users\\wibot\\Anaconda3\\lib\\site-packages\\matplotlib\\figure.py:445: UserWarning: Matplotlib is currently using module://ipykernel.pylab.backend_inline, which is a non-GUI backend, so cannot show the figure.\n",
      "  % get_backend())\n"
     ]
    },
    {
     "data": {
      "image/png": "[encoded data removed]",
      "text/plain": [
       "<Figure size 432x288 with 2 Axes>"
      ]
     },
     "metadata": {},
     "output_type": "display_data"
    }
   ],
   "source": [
    "midterm_tazkera = herat_mid['F07. Does everyone in the household have a tazkera?']\n",
    "endline_tazkera = herat_end['F07. Does everyone in the household have a tazkera?']\n",
    "fig, ax =plt.subplots(1,2)\n",
    "sns.countplot(midterm_tazkera, ax=ax[0])\n",
    "sns.countplot(endline_tazkera, ax=ax[1])\n",
    "ax[0].set(xlabel='during', ylabel='number of people')\n",
    "ax[1].set(xlabel='after', ylabel='')\n",
    "plt.title('Does everyone in the household have a tazkera?')\n",
    "fig.show()"
   ]
  },
  {
   "cell_type": "markdown",
   "metadata": {},
   "source": [
    "We can see that endline data has huge improvement in comparisson with midterm data. Everyone has a tazkera for majority of households from endline data."
   ]
  },
  {
   "cell_type": "code",
   "execution_count": 34,
   "metadata": {},
   "outputs": [
    {
     "name": "stderr",
     "output_type": "stream",
     "text": [
      "C:\\Users\\wibot\\Anaconda3\\lib\\site-packages\\matplotlib\\figure.py:445: UserWarning: Matplotlib is currently using module://ipykernel.pylab.backend_inline, which is a non-GUI backend, so cannot show the figure.\n",
      "  % get_backend())\n"
     ]
    },
    {
     "data": {
      "image/png": "[encoded data removed]",
      "text/plain": [
       "<Figure size 432x288 with 2 Axes>"
      ]
     },
     "metadata": {},
     "output_type": "display_data"
    }
   ],
   "source": [
    "midterm_tazkera = herat_mid['F07b1. do you know how to obtain a tazkera (thanks to the project support)?  y/n/dk']\n",
    "endline_tazkera = herat_end['F07b1. do you know how to obtain a tazkera (thanks to the project support)?  y/n/dk']\n",
    "fig, ax =plt.subplots(1,2)\n",
    "sns.countplot(midterm_tazkera, ax=ax[0])\n",
    "sns.countplot(endline_tazkera, ax=ax[1])\n",
    "ax[0].set(xlabel='during', ylabel='number of people')\n",
    "ax[1].set(xlabel='after', ylabel='')\n",
    "plt.title('Do you know how to obtain a tazkera (thanks to the project support)?')\n",
    "fig.show()"
   ]
  },
  {
   "cell_type": "markdown",
   "metadata": {},
   "source": [
    "Majority of people know how to obtain tazkera due to the program support."
   ]
  },
  {
   "cell_type": "markdown",
   "metadata": {},
   "source": [
    "##### What is your average monthly income (entire HH, in AFA)?"
   ]
  },
  {
   "cell_type": "code",
   "execution_count": 13,
   "metadata": {},
   "outputs": [
    {
     "name": "stdout",
     "output_type": "stream",
     "text": [
      "t=1.025, p=0.306\n",
      "Accept null hypothesis that the means are equal.\n"
     ]
    }
   ],
   "source": [
    "stat, p = ttest_ind(herat_end['I03. What is your average monthly income (entire HH, in AFA)?'], herat_mid['I03. What is your average monthly income (entire HH, in AFA)?'], nan_policy='omit')\n",
    "print('t=%.3f, p=%.3f' % (stat, p))\n",
    "if p > 0.05:\n",
    "    print('Accept null hypothesis that the means are equal.')\n",
    "else:\n",
    "    print('Reject the null hypothesis that the means are equal.')"
   ]
  },
  {
   "cell_type": "markdown",
   "metadata": {},
   "source": [
    "There is no significant difference in income during the program and in the end."
   ]
  },
  {
   "cell_type": "markdown",
   "metadata": {},
   "source": [
    "##### Food consumption"
   ]
  },
  {
   "cell_type": "code",
   "execution_count": 16,
   "metadata": {},
   "outputs": [
    {
     "name": "stdout",
     "output_type": "stream",
     "text": [
      "E01. Rice, bread, potatoes, maize\n",
      "t=-1.158, p=0.24736\n",
      "Accept null hypothesis that the means are equal.\n",
      "E02. Beans, peas, chickpeas, peanuts, cashew nuts, nut\n",
      "t=5.776, p=0.00000\n",
      "Reject the null hypothesis that the means are equal.\n",
      "E04. All fruits\n",
      "t=5.293, p=0.00000\n",
      "Reject the null hypothesis that the means are equal.\n",
      "E05. Beef, goat, poultry, eggs, fish, sheep\n",
      "t=0.875, p=0.38187\n",
      "Accept null hypothesis that the means are equal.\n",
      "E06. Milk, yoghurt, other dairy products\n",
      "t=0.475, p=0.63471\n",
      "Accept null hypothesis that the means are equal.\n",
      "E07. Sugar, and sugar products, honey\n",
      "t=-0.692, p=0.48944\n",
      "Accept null hypothesis that the means are equal.\n",
      "E08. Oil, fats and butter\n",
      "t=-9.084, p=0.00000\n",
      "Reject the null hypothesis that the means are equal.\n",
      "E09. Spices, tea, salt, coffee, small amounts of milk for tea\n",
      "t=-9.601, p=0.00000\n",
      "Reject the null hypothesis that the means are equal.\n"
     ]
    }
   ],
   "source": [
    "# numerical columns\n",
    "columns = ['E01. Rice, bread, potatoes, maize',\n",
    "       'E02. Beans, peas, chickpeas, peanuts, cashew nuts, nut',\n",
    "       #'E03. All vegetables ',\n",
    "       'E04. All fruits',\n",
    "       'E05. Beef, goat, poultry, eggs, fish, sheep',\n",
    "       'E06. Milk, yoghurt, other dairy products',\n",
    "       'E07. Sugar, and sugar products, honey', 'E08. Oil, fats and butter',\n",
    "       'E09. Spices, tea, salt, coffee, small amounts of milk for tea']\n",
    "for col in columns:\n",
    "    stat, p = ttest_ind(herat_end[col], herat_mid[col])\n",
    "    print(col)\n",
    "    print('t=%.3f, p=%.5f' % (stat, p))\n",
    "    if p > 0.05:\n",
    "        print('Accept null hypothesis that the means are equal.')\n",
    "    else:\n",
    "        print('Reject the null hypothesis that the means are equal.')"
   ]
  },
  {
   "cell_type": "markdown",
   "metadata": {},
   "source": [
    "There is no significant difference for rice, bread, potatoes, maize, beef, goat, poultry, eggs, fish, sheep, dairy products, sugar consumption per week for endline and midterm data.\n",
    "\n",
    "Beans, peas, chickpeas, peanuts, cashew nuts, fruits consumption per week got better(more days of the week).\n",
    "\n",
    "Spices, tea, salt, coffee, small amounts of milk for tea, oil, fats and butter consumption got worse."
   ]
  }
 ],
 "metadata": {
  "kernelspec": {
   "display_name": "Python 3",
   "language": "python",
   "name": "python3"
  },
  "language_info": {
   "codemirror_mode": {
    "name": "ipython",
    "version": 3
   },
   "file_extension": ".py",
   "mimetype": "text/x-python",
   "name": "python",
   "nbconvert_exporter": "python",
   "pygments_lexer": "ipython3",
   "version": "3.6.8"
  }
 },
 "nbformat": 4,
 "nbformat_minor": 2
}
